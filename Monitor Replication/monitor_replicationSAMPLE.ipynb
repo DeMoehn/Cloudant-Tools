{
 "cells": [
  {
   "cell_type": "markdown",
   "metadata": {},
   "source": [
    "## Script to monitor replication of source and target cluster"
   ]
  },
  {
   "cell_type": "code",
   "execution_count": null,
   "metadata": {
    "collapsed": false
   },
   "outputs": [],
   "source": [
    "import requests, json, operator, getpass"
   ]
  },
  {
   "cell_type": "markdown",
   "metadata": {
    "slideshow": {
     "slide_type": "notes"
    }
   },
   "source": [
    "#### Configure your credentials here:"
   ]
  },
  {
   "cell_type": "code",
   "execution_count": null,
   "metadata": {
    "collapsed": true
   },
   "outputs": [],
   "source": [
    "source_auth = ( 'USER', 'PW' )\n",
    "source_url = 'http://ACCOUNT.cloudant.com'\n",
    "\n",
    "target_auth = ( 'USER', 'PW' )\n",
    "target_url = 'https://ACCOUNT.cloudant.com'\n",
    "\n",
    "target_adm_auth = ( 'USER', 'PW')  # change this to your admin user credentials"
   ]
  },
  {
   "cell_type": "markdown",
   "metadata": {},
   "source": [
    "#### Fetch the active tasks of source and target"
   ]
  },
  {
   "cell_type": "code",
   "execution_count": null,
   "metadata": {
    "collapsed": false
   },
   "outputs": [],
   "source": [
    "source_request = requests.get(source_url + '/_active_tasks', auth=source_auth)\n",
    "target_request = requests.get(target_url + '/_active_tasks', auth=target_auth)\n",
    "\n",
    "\n",
    "\n",
    "if(source_request.status_code == 200):\n",
    "    print \"Connection to Source: \"+str(source_request.status_code)+\" (OK)\"\n",
    "    source_active_tasks = source_request.json()\n",
    "else:\n",
    "    print \"Connection to Source problem: \"+str(source_request.status_code)+\" (HTTP)\"\n",
    "\n",
    "if(target_request.status_code == 200):\n",
    "    print \"Connection to Target: \"+str(target_request.status_code)+\" (OK)\"\n",
    "    target_active_tasks = target_request.json()\n",
    "else:\n",
    "    print \"Connection to Target problem: \"+str(target_request.status_code)+\" (HTTP)\""
   ]
  },
  {
   "cell_type": "markdown",
   "metadata": {},
   "source": [
    "#### Extract the dbnames from the source replication URL"
   ]
  },
  {
   "cell_type": "code",
   "execution_count": null,
   "metadata": {
    "collapsed": false
   },
   "outputs": [],
   "source": [
    "source_active_dbs = {d['source'].split(\"/\")[-2]:d for d in source_active_tasks if d.has_key('source')}\n",
    "target_active_dbs = {d['source'].split(\"/\")[-2]:d for d in target_active_tasks if d.has_key('source')}"
   ]
  },
  {
   "cell_type": "markdown",
   "metadata": {},
   "source": [
    "#### Get the DB sizes"
   ]
  },
  {
   "cell_type": "code",
   "execution_count": null,
   "metadata": {
    "collapsed": false
   },
   "outputs": [],
   "source": [
    "active_db = {}\n",
    "\n",
    "print \"{0: <50} {1:>50} \".format('Source DB', 'TargetDB')\n",
    "print \"{0: <50} {1:>50} \".format('-----------', '-----------')\n",
    "\n",
    "for db in source_active_dbs:\n",
    "    if db.startswith('on_') or db.startswith('sm_') or db.startswith('nlt_'): # You can filter your DBs here!\n",
    "        source_db_info = requests.get(source_url + '/' + db, auth=source_auth).json()\n",
    "        target_db_info = requests.get(target_url + '/' + db, auth=target_auth).json()\n",
    "        \n",
    "        source_db_name = source_db_info.get(\"db_name\")\n",
    "        target_db_name = target_db_info.get(\"db_name\")\n",
    "        \n",
    "        target_changes_pending = \"\"\n",
    "        try:\n",
    "            target_changes_pending = target_active_dbs.get(db_name).get(\"changes_pending\", \"\")\n",
    "        except:\n",
    "            pass\n",
    "        \n",
    "        print \"{0: <50} {1:>50} \".format(source_db_name, target_db_name)\n",
    "        \n",
    "        try:\n",
    "            active_db[source_db_name] = ( \n",
    "                    source_db_info.get(\"doc_count\", \"\"),  \n",
    "                    target_db_info.get(\"doc_count\", \"\"),\n",
    "                    target_db_info.get(\"other\", \"\").get(\"data_size\", \"\"),\n",
    "                    target_changes_pending\n",
    "                    )\n",
    "        except:\n",
    "            pass\n",
    "    else:\n",
    "        print db+\" not included\""
   ]
  },
  {
   "cell_type": "markdown",
   "metadata": {},
   "source": [
    "#### Sort the list of active_dbs in order of data_size"
   ]
  },
  {
   "cell_type": "code",
   "execution_count": null,
   "metadata": {
    "collapsed": false
   },
   "outputs": [],
   "source": [
    "sorted_active_dbs = sorted(active_db.items(), key=operator.itemgetter(1))\n",
    "    \n",
    "print \"{0: <20} {1:>20} {2:>15} {3:>10} {4:>10} {5:>10} {6:>15}\".format('DB name', 'Source count', 'Target count', 'Diff', 'Pct',  'Size Gb',  'Chgs Pend[1]')\n",
    "print \"{0: <20} {1:>20} {2:>15} {3:>10} {4:>10} {5:>10} {6:>15}\".format('----------------', '-----------', '--------------', '----', '---',  '-------',  '------------')\n",
    "\n",
    "def num(s):\n",
    "    try:\n",
    "        return int(s)\n",
    "    except ValueError:\n",
    "        return 0\n",
    "\n",
    "import math\n",
    "\n",
    "total_sze = 0\n",
    "    \n",
    "for db in sorted_active_dbs:\n",
    "    db_name = db[0]\n",
    "    source_cnt  = num(db[1][0])\n",
    "    target_cnt  = num(db[1][1])\n",
    "    target_sze  = num(db[1][2]) / 1024 / 1024 / 1024\n",
    "    target_pen  = num(db[1][3])\n",
    "    \n",
    "    total_sze = total_sze + target_sze\n",
    "    \n",
    "    diff    = source_cnt - target_cnt\n",
    "    pct     = 100 * (target_cnt / float(source_cnt))\n",
    "    shards  = int(math.ceil((source_cnt * 1.5) / 10000000)) # 1.5 is expected growth\n",
    "\n",
    "    print \"{0: <20} {1:>20} {2:>15} {3:>10} {4:>10} {5:>10} {6:>15}\".format(db_name, source_cnt, target_cnt, diff, int(pct), target_sze, target_pen )\n",
    "        \n",
    "print \"{0: <20} {1:>20} {2:>15} {3:>10} {4:>10} {5:>10}\".format('', '', '', '', '',  '-------')\n",
    "print \"{0: <20} {1:>20} {2:>15} {3:>10} {4:>10} {5:>10}\".format('', '', '', '', '',  str(total_sze)+\" GB\")\n",
    "        \n",
    "print \"[1] changes_pending is from target: {}/_active_tasks\".format(target_url)"
   ]
  },
  {
   "cell_type": "code",
   "execution_count": null,
   "metadata": {
    "collapsed": true
   },
   "outputs": [],
   "source": []
  }
 ],
 "metadata": {
  "kernelspec": {
   "display_name": "Python 2",
   "language": "python",
   "name": "python2"
  },
  "language_info": {
   "codemirror_mode": {
    "name": "ipython",
    "version": 2
   },
   "file_extension": ".py",
   "mimetype": "text/x-python",
   "name": "python",
   "nbconvert_exporter": "python",
   "pygments_lexer": "ipython2",
   "version": "2.7.10"
  }
 },
 "nbformat": 4,
 "nbformat_minor": 0
}
